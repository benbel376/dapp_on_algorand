{
 "cells": [
  {
   "cell_type": "code",
   "execution_count": 9,
   "id": "98317dd7-c0fb-4ce3-bb69-777034869eb6",
   "metadata": {},
   "outputs": [],
   "source": [
    "# build transaction\n",
    "from algosdk.future import transaction\n",
    "from algosdk import constants\n",
    "from algosdk.v2client import algod\n",
    "from algosdk import account, mnemonic\n",
    "import base64\n",
    "import logging\n",
    "import sys\n",
    "from pyteal import *"
   ]
  },
  {
   "cell_type": "code",
   "execution_count": 10,
   "id": "7a9c48d3-216f-4a37-bbb0-d22b6b6c3e5d",
   "metadata": {},
   "outputs": [],
   "source": [
    "sys.path.insert(1, '../contracts')\n",
    "sys.path.append(\"..\")\n",
    "sys.path.append(\".\")\n",
    "\n",
    "from login_contract import approval_program, clear_state_program"
   ]
  },
  {
   "cell_type": "code",
   "execution_count": 11,
   "id": "ef762f18-4eb0-4bf4-8645-d9385083c0f6",
   "metadata": {},
   "outputs": [],
   "source": [
    "def get_private_key_from_mnemonic(mn) :\n",
    "    private_key = mnemonic.to_private_key(mn)\n",
    "    return private_key\n",
    "\n",
    "def compile_program(client, contract):\n",
    "    teal = compileTeal(contract, mode=Mode.Application, version=5)\n",
    "    response = client.compile(teal)\n",
    "    return base64.b64decode(response[\"result\"])\n",
    "\n",
    "\n",
    "def get_client(addr, token):\n",
    "    algod_client = algod.AlgodClient(token, addr)\n",
    "    return algod_client"
   ]
  },
  {
   "cell_type": "code",
   "execution_count": 12,
   "id": "58e9f265-8976-4785-849c-db840754d607",
   "metadata": {},
   "outputs": [],
   "source": [
    "algod_address = \"http://localhost:4001\"\n",
    "algod_token = \"aaaaaaaaaaaaaaaaaaaaaaaaaaaaaaaaaaaaaaaaaaaaaaaaaaaaaaaaaaaaaaaa\"\n",
    "client = get_client(algod_address, algod_token)\n",
    "sender_addr = \"L6ZS626IHSZN7SB6B2WFVW4G6EL2VNKGPP6KQB2FMOQOCRLAZFG3C5BIIY\"\n",
    "sender_pass = \"dove tomato solid light purpose shrug shaft blade scrub ten peace bulk \\\n",
    "                net dynamic broken exotic dog knife method august goat drive recycle abandon limb\"\n",
    "sender_private = get_private_key_from_mnemonic(sender_pass)\n",
    "sender = {\"passphrase\":sender_pass, \"private_key\":sender_private, \"address\": sender_addr}"
   ]
  },
  {
   "cell_type": "code",
   "execution_count": 13,
   "id": "cfec8832-1a87-4006-bdb7-6d5d85dcba9f",
   "metadata": {},
   "outputs": [
    {
     "data": {
      "text/plain": [
       "<pyteal.Cond at 0x7fac7c799870>"
      ]
     },
     "execution_count": 13,
     "metadata": {},
     "output_type": "execute_result"
    }
   ],
   "source": [
    "approval_program()"
   ]
  },
  {
   "cell_type": "code",
   "execution_count": 14,
   "id": "6dacf64e-14cc-4d1d-8728-7f898e0be22e",
   "metadata": {},
   "outputs": [],
   "source": [
    "def create_app(client, sender, member1, member2, member3, member4):\n",
    "    \n",
    "    #approval = open(\"../contracts/login_approval.teal\", encoding=\"UTF-8\")\n",
    "    #clear = open(\"../contracts/login_clear_state.teal\", encoding=\"UTF-8\")\n",
    "    approval_program_compiled = compile_program(client, approval_program())\n",
    "\n",
    "    # compile program to binary\n",
    "    clear_state_program_compiled = compile_program(client, clear_state_program())\n",
    "\n",
    "    globalSchema = transaction.StateSchema(num_uints=0, num_byte_slices=10)\n",
    "    localSchema = transaction.StateSchema(num_uints=0, num_byte_slices=0)\n",
    "\n",
    "    app_args = [\n",
    "        member1,\n",
    "        member2,\n",
    "        member3,\n",
    "        member4,\n",
    "    ]\n",
    "\n",
    "    txn = transaction.ApplicationCreateTxn(\n",
    "        sender=sender[\"address\"],\n",
    "        on_complete=transaction.OnComplete.NoOpOC,\n",
    "        approval_program=approval_program_compiled,\n",
    "        clear_program=clear_state_program_compiled,\n",
    "        global_schema=globalSchema,\n",
    "        local_schema=localSchema,\n",
    "        app_args=app_args,\n",
    "        sp=client.suggested_params(),\n",
    "    )\n",
    "\n",
    "    # sign transaction\n",
    "    signed_txn = txn.sign(sender[\"private_key\"])\n",
    "    tx_id = signed_txn.transaction.get_txid()\n",
    "\n",
    "    # send transaction\n",
    "    client.send_transactions([signed_txn])\n",
    "\n",
    "    # wait for confirmation\n",
    "    try:\n",
    "        transaction_response = transaction.wait_for_confirmation(client, tx_id, 4)\n",
    "        print(\"TXID: \", tx_id)\n",
    "        print(\"Result confirmed in round: {}\".format(transaction_response['confirmed-round']))\n",
    "\n",
    "    except Exception as err:\n",
    "        print(err)\n",
    "        return\n",
    "\n",
    "    # display results\n",
    "    transaction_response = client.pending_transaction_info(tx_id)\n",
    "    app_id = transaction_response['application-index']\n",
    "    print(\"Created new app-id:\", app_id)\n",
    "\n",
    "    return app_id"
   ]
  },
  {
   "cell_type": "code",
   "execution_count": 15,
   "id": "fc893baa-a85d-4141-a73c-aa7095423737",
   "metadata": {},
   "outputs": [
    {
     "name": "stdout",
     "output_type": "stream",
     "text": [
      "TXID:  KAY7BWQVZW6LMIJDTRVW3IGIIO7ZTLXHIYOAZ6NGV4YK4QKEX7TA\n",
      "Result confirmed in round: 5662\n",
      "Created new app-id: 5\n"
     ]
    },
    {
     "data": {
      "text/plain": [
       "5"
      ]
     },
     "execution_count": 15,
     "metadata": {},
     "output_type": "execute_result"
    }
   ],
   "source": [
    "members_list = [\"one\", \"two\", \"three\", \"four\"]\n",
    "app_id = create_app(client, sender, str(members_list[0]), str(members_list[1]), str(members_list[2]), members_list[3])\n",
    "app_id"
   ]
  },
  {
   "cell_type": "code",
   "execution_count": 16,
   "id": "c3f3eb33-22ef-47e2-82fc-bad7e4beeee7",
   "metadata": {},
   "outputs": [],
   "source": [
    "# helper function that formats global state for printing\n",
    "def format_state(state):\n",
    "    formatted = {}\n",
    "    for item in state:\n",
    "        key = item['key']\n",
    "        value = item['value']\n",
    "        formatted_key = base64.b64decode(key).decode('utf-8')\n",
    "        if value['type'] == 1:\n",
    "            # byte string\n",
    "            if formatted_key == 'voted':\n",
    "                formatted_value = base64.b64decode(value['bytes']).decode('utf-8')\n",
    "            else:\n",
    "                formatted_value = value['bytes']\n",
    "            formatted[formatted_key] = formatted_value\n",
    "        else:\n",
    "            # integer\n",
    "            formatted[formatted_key] = value['uint']\n",
    "    return formatted\n",
    "\n",
    "# helper function to read app global state\n",
    "def read_global_state(client, app_id):\n",
    "    app = client.application_info(app_id)\n",
    "    global_state = app['params']['global-state'] if \"global-state\" in app['params'] else []\n",
    "    return format_state(global_state)"
   ]
  },
  {
   "cell_type": "code",
   "execution_count": 17,
   "id": "c22e577e-561a-4131-988e-2ab49a2a3a73",
   "metadata": {},
   "outputs": [],
   "source": [
    "# call application\n",
    "def call_app(client, _sender, index) :\n",
    "    # get node suggested parameters\n",
    "    params = client.suggested_params()\n",
    "\n",
    "    # create unsigned transaction\n",
    "    txn = transaction.ApplicationNoOpTxn(\n",
    "        sender=sender,\n",
    "        sp=suggested_params,\n",
    "        index=index,)\n",
    "\n",
    "    # sign transaction\n",
    "    signed_txn = txn.sign(_sender[\"private_key\"])\n",
    "    tx_id = signed_txn.transaction.get_txid()\n",
    "\n",
    "    # send transaction\n",
    "    client.send_transactions([signed_txn])\n",
    "\n",
    "    # wait for confirmation\n",
    "    try:\n",
    "        transaction_response = transaction.wait_for_confirmation(client, tx_id, 5)\n",
    "        print(\"TXID: \", tx_id)\n",
    "        print(\"Result confirmed in round: {}\".format(transaction_response['confirmed-round']))\n",
    "\n",
    "    except Exception as err:\n",
    "        print(err)\n",
    "        return\n",
    "    print(\"Application called\")"
   ]
  },
  {
   "cell_type": "code",
   "execution_count": null,
   "id": "74b73cd6-df06-4206-9c6e-364922c062ce",
   "metadata": {},
   "outputs": [],
   "source": [
    "sender2_addr = \"6UMSNCZUNWOTWAYRQKE3CV6JXSVLPYA4BMG77CKZM75VASAAOFSLNKTALA \"\n",
    "sender2_pass = \"select canyon order half resemble clever tissue panther tunnel agent inspire \\\n",
    "            degree system donate gorilla strong vocal divide about magic vessel beef throw ability idea\"\"\n",
    "sender2_private = get_private_key_from_mnemonic(sender_pass)\n",
    "sender2 = {\"passphrase\":sender2_pass, \"private_key\":sender2_private, \"address\": sender2_addr}"
   ]
  },
  {
   "cell_type": "code",
   "execution_count": 23,
   "id": "4f88b5e5-32ff-4f4d-a9cb-8386fb9f09ef",
   "metadata": {},
   "outputs": [
    {
     "ename": "WrongKeyLengthError",
     "evalue": "key length must be 58",
     "output_type": "error",
     "traceback": [
      "\u001b[0;31m---------------------------------------------------------------------------\u001b[0m",
      "\u001b[0;31mWrongKeyLengthError\u001b[0m                       Traceback (most recent call last)",
      "Input \u001b[0;32mIn [23]\u001b[0m, in \u001b[0;36m<cell line: 1>\u001b[0;34m()\u001b[0m\n\u001b[0;32m----> 1\u001b[0m \u001b[43mcall_app\u001b[49m\u001b[43m(\u001b[49m\u001b[43mclient\u001b[49m\u001b[43m,\u001b[49m\u001b[43m \u001b[49m\u001b[43msender\u001b[49m\u001b[43m,\u001b[49m\u001b[43m \u001b[49m\u001b[43mapp_id\u001b[49m\u001b[43m)\u001b[49m\n\u001b[1;32m      3\u001b[0m \u001b[38;5;66;03m# read global state of application\u001b[39;00m\n\u001b[1;32m      4\u001b[0m \u001b[38;5;28mprint\u001b[39m(\u001b[38;5;124m\"\u001b[39m\u001b[38;5;124mGlobal state:\u001b[39m\u001b[38;5;124m\"\u001b[39m, read_global_state(algod_client, \u001b[38;5;241m5\u001b[39m))\n",
      "Input \u001b[0;32mIn [21]\u001b[0m, in \u001b[0;36mcall_app\u001b[0;34m(client, _sender, index)\u001b[0m\n\u001b[1;32m      4\u001b[0m params \u001b[38;5;241m=\u001b[39m client\u001b[38;5;241m.\u001b[39msuggested_params()\n\u001b[1;32m      6\u001b[0m \u001b[38;5;66;03m# create unsigned transaction\u001b[39;00m\n\u001b[0;32m----> 7\u001b[0m txn \u001b[38;5;241m=\u001b[39m \u001b[43mtransaction\u001b[49m\u001b[38;5;241;43m.\u001b[39;49m\u001b[43mApplicationNoOpTxn\u001b[49m\u001b[43m(\u001b[49m\n\u001b[1;32m      8\u001b[0m \u001b[43m    \u001b[49m\u001b[43msender\u001b[49m\u001b[38;5;241;43m=\u001b[39;49m\u001b[43m_sender\u001b[49m\u001b[43m,\u001b[49m\n\u001b[1;32m      9\u001b[0m \u001b[43m    \u001b[49m\u001b[43msp\u001b[49m\u001b[38;5;241;43m=\u001b[39;49m\u001b[43mparams\u001b[49m\u001b[43m,\u001b[49m\n\u001b[1;32m     10\u001b[0m \u001b[43m    \u001b[49m\u001b[43mindex\u001b[49m\u001b[38;5;241;43m=\u001b[39;49m\u001b[43mindex\u001b[49m\u001b[43m,\u001b[49m\u001b[43m)\u001b[49m\n\u001b[1;32m     12\u001b[0m \u001b[38;5;66;03m# sign transaction\u001b[39;00m\n\u001b[1;32m     13\u001b[0m signed_txn \u001b[38;5;241m=\u001b[39m txn\u001b[38;5;241m.\u001b[39msign(_sender[\u001b[38;5;124m\"\u001b[39m\u001b[38;5;124mprivate_key\u001b[39m\u001b[38;5;124m\"\u001b[39m])\n",
      "File \u001b[0;32m~/anaconda3/envs/py310/lib/python3.10/site-packages/algosdk/future/transaction.py:2104\u001b[0m, in \u001b[0;36mApplicationNoOpTxn.__init__\u001b[0;34m(self, sender, sp, index, app_args, accounts, foreign_apps, foreign_assets, note, lease, rekey_to)\u001b[0m\n\u001b[1;32m   2091\u001b[0m \u001b[38;5;28;01mdef\u001b[39;00m \u001b[38;5;21m__init__\u001b[39m(\n\u001b[1;32m   2092\u001b[0m     \u001b[38;5;28mself\u001b[39m,\n\u001b[1;32m   2093\u001b[0m     sender,\n\u001b[0;32m   (...)\u001b[0m\n\u001b[1;32m   2102\u001b[0m     rekey_to\u001b[38;5;241m=\u001b[39m\u001b[38;5;28;01mNone\u001b[39;00m,\n\u001b[1;32m   2103\u001b[0m ):\n\u001b[0;32m-> 2104\u001b[0m     \u001b[43mApplicationCallTxn\u001b[49m\u001b[38;5;241;43m.\u001b[39;49m\u001b[38;5;21;43m__init__\u001b[39;49m\u001b[43m(\u001b[49m\n\u001b[1;32m   2105\u001b[0m \u001b[43m        \u001b[49m\u001b[38;5;28;43mself\u001b[39;49m\u001b[43m,\u001b[49m\n\u001b[1;32m   2106\u001b[0m \u001b[43m        \u001b[49m\u001b[43msender\u001b[49m\u001b[38;5;241;43m=\u001b[39;49m\u001b[43msender\u001b[49m\u001b[43m,\u001b[49m\n\u001b[1;32m   2107\u001b[0m \u001b[43m        \u001b[49m\u001b[43msp\u001b[49m\u001b[38;5;241;43m=\u001b[39;49m\u001b[43msp\u001b[49m\u001b[43m,\u001b[49m\n\u001b[1;32m   2108\u001b[0m \u001b[43m        \u001b[49m\u001b[43mindex\u001b[49m\u001b[38;5;241;43m=\u001b[39;49m\u001b[38;5;28;43mself\u001b[39;49m\u001b[38;5;241;43m.\u001b[39;49m\u001b[43mcreatable_index\u001b[49m\u001b[43m(\u001b[49m\u001b[43mindex\u001b[49m\u001b[43m)\u001b[49m\u001b[43m,\u001b[49m\n\u001b[1;32m   2109\u001b[0m \u001b[43m        \u001b[49m\u001b[43mon_complete\u001b[49m\u001b[38;5;241;43m=\u001b[39;49m\u001b[43mOnComplete\u001b[49m\u001b[38;5;241;43m.\u001b[39;49m\u001b[43mNoOpOC\u001b[49m\u001b[43m,\u001b[49m\n\u001b[1;32m   2110\u001b[0m \u001b[43m        \u001b[49m\u001b[43mapp_args\u001b[49m\u001b[38;5;241;43m=\u001b[39;49m\u001b[43mapp_args\u001b[49m\u001b[43m,\u001b[49m\n\u001b[1;32m   2111\u001b[0m \u001b[43m        \u001b[49m\u001b[43maccounts\u001b[49m\u001b[38;5;241;43m=\u001b[39;49m\u001b[43maccounts\u001b[49m\u001b[43m,\u001b[49m\n\u001b[1;32m   2112\u001b[0m \u001b[43m        \u001b[49m\u001b[43mforeign_apps\u001b[49m\u001b[38;5;241;43m=\u001b[39;49m\u001b[43mforeign_apps\u001b[49m\u001b[43m,\u001b[49m\n\u001b[1;32m   2113\u001b[0m \u001b[43m        \u001b[49m\u001b[43mforeign_assets\u001b[49m\u001b[38;5;241;43m=\u001b[39;49m\u001b[43mforeign_assets\u001b[49m\u001b[43m,\u001b[49m\n\u001b[1;32m   2114\u001b[0m \u001b[43m        \u001b[49m\u001b[43mnote\u001b[49m\u001b[38;5;241;43m=\u001b[39;49m\u001b[43mnote\u001b[49m\u001b[43m,\u001b[49m\n\u001b[1;32m   2115\u001b[0m \u001b[43m        \u001b[49m\u001b[43mlease\u001b[49m\u001b[38;5;241;43m=\u001b[39;49m\u001b[43mlease\u001b[49m\u001b[43m,\u001b[49m\n\u001b[1;32m   2116\u001b[0m \u001b[43m        \u001b[49m\u001b[43mrekey_to\u001b[49m\u001b[38;5;241;43m=\u001b[39;49m\u001b[43mrekey_to\u001b[49m\u001b[43m,\u001b[49m\n\u001b[1;32m   2117\u001b[0m \u001b[43m    \u001b[49m\u001b[43m)\u001b[49m\n",
      "File \u001b[0;32m~/anaconda3/envs/py310/lib/python3.10/site-packages/algosdk/future/transaction.py:1630\u001b[0m, in \u001b[0;36mApplicationCallTxn.__init__\u001b[0;34m(self, sender, sp, index, on_complete, local_schema, global_schema, approval_program, clear_program, app_args, accounts, foreign_apps, foreign_assets, note, lease, rekey_to, extra_pages)\u001b[0m\n\u001b[1;32m   1627\u001b[0m \u001b[38;5;28mself\u001b[39m\u001b[38;5;241m.\u001b[39mextra_pages \u001b[38;5;241m=\u001b[39m extra_pages\n\u001b[1;32m   1628\u001b[0m \u001b[38;5;28;01mif\u001b[39;00m \u001b[38;5;129;01mnot\u001b[39;00m sp\u001b[38;5;241m.\u001b[39mflat_fee:\n\u001b[1;32m   1629\u001b[0m     \u001b[38;5;28mself\u001b[39m\u001b[38;5;241m.\u001b[39mfee \u001b[38;5;241m=\u001b[39m \u001b[38;5;28mmax\u001b[39m(\n\u001b[0;32m-> 1630\u001b[0m         \u001b[38;5;28;43mself\u001b[39;49m\u001b[38;5;241;43m.\u001b[39;49m\u001b[43mestimate_size\u001b[49m\u001b[43m(\u001b[49m\u001b[43m)\u001b[49m \u001b[38;5;241m*\u001b[39m \u001b[38;5;28mself\u001b[39m\u001b[38;5;241m.\u001b[39mfee, constants\u001b[38;5;241m.\u001b[39mmin_txn_fee\n\u001b[1;32m   1631\u001b[0m     )\n",
      "File \u001b[0;32m~/anaconda3/envs/py310/lib/python3.10/site-packages/algosdk/future/transaction.py:183\u001b[0m, in \u001b[0;36mTransaction.estimate_size\u001b[0;34m(self)\u001b[0m\n\u001b[1;32m    181\u001b[0m \u001b[38;5;28;01mdef\u001b[39;00m \u001b[38;5;21mestimate_size\u001b[39m(\u001b[38;5;28mself\u001b[39m):\n\u001b[1;32m    182\u001b[0m     sk, _ \u001b[38;5;241m=\u001b[39m account\u001b[38;5;241m.\u001b[39mgenerate_account()\n\u001b[0;32m--> 183\u001b[0m     stx \u001b[38;5;241m=\u001b[39m \u001b[38;5;28;43mself\u001b[39;49m\u001b[38;5;241;43m.\u001b[39;49m\u001b[43m_sign_and_skip_rekey_check\u001b[49m\u001b[43m(\u001b[49m\u001b[43msk\u001b[49m\u001b[43m)\u001b[49m\n\u001b[1;32m    184\u001b[0m     \u001b[38;5;28;01mreturn\u001b[39;00m \u001b[38;5;28mlen\u001b[39m(base64\u001b[38;5;241m.\u001b[39mb64decode(encoding\u001b[38;5;241m.\u001b[39mmsgpack_encode(stx)))\n",
      "File \u001b[0;32m~/anaconda3/envs/py310/lib/python3.10/site-packages/algosdk/future/transaction.py:158\u001b[0m, in \u001b[0;36mTransaction._sign_and_skip_rekey_check\u001b[0;34m(self, private_key)\u001b[0m\n\u001b[1;32m    147\u001b[0m \u001b[38;5;28;01mdef\u001b[39;00m \u001b[38;5;21m_sign_and_skip_rekey_check\u001b[39m(\u001b[38;5;28mself\u001b[39m, private_key):\n\u001b[1;32m    148\u001b[0m     \u001b[38;5;124;03m\"\"\"\u001b[39;00m\n\u001b[1;32m    149\u001b[0m \u001b[38;5;124;03m    Sign the transaction with a private key, skipping rekey check.\u001b[39;00m\n\u001b[1;32m    150\u001b[0m \u001b[38;5;124;03m    This is only used for size estimation.\u001b[39;00m\n\u001b[0;32m   (...)\u001b[0m\n\u001b[1;32m    156\u001b[0m \u001b[38;5;124;03m        SignedTransaction: signed transaction with the signature\u001b[39;00m\n\u001b[1;32m    157\u001b[0m \u001b[38;5;124;03m    \"\"\"\u001b[39;00m\n\u001b[0;32m--> 158\u001b[0m     sig \u001b[38;5;241m=\u001b[39m \u001b[38;5;28;43mself\u001b[39;49m\u001b[38;5;241;43m.\u001b[39;49m\u001b[43mraw_sign\u001b[49m\u001b[43m(\u001b[49m\u001b[43mprivate_key\u001b[49m\u001b[43m)\u001b[49m\n\u001b[1;32m    159\u001b[0m     sig \u001b[38;5;241m=\u001b[39m base64\u001b[38;5;241m.\u001b[39mb64encode(sig)\u001b[38;5;241m.\u001b[39mdecode()\n\u001b[1;32m    160\u001b[0m     stx \u001b[38;5;241m=\u001b[39m SignedTransaction(\u001b[38;5;28mself\u001b[39m, sig)\n",
      "File \u001b[0;32m~/anaconda3/envs/py310/lib/python3.10/site-packages/algosdk/future/transaction.py:174\u001b[0m, in \u001b[0;36mTransaction.raw_sign\u001b[0;34m(self, private_key)\u001b[0m\n\u001b[1;32m    164\u001b[0m \u001b[38;5;124;03m\"\"\"\u001b[39;00m\n\u001b[1;32m    165\u001b[0m \u001b[38;5;124;03mSign the transaction.\u001b[39;00m\n\u001b[1;32m    166\u001b[0m \n\u001b[0;32m   (...)\u001b[0m\n\u001b[1;32m    171\u001b[0m \u001b[38;5;124;03m    bytes: signature\u001b[39;00m\n\u001b[1;32m    172\u001b[0m \u001b[38;5;124;03m\"\"\"\u001b[39;00m\n\u001b[1;32m    173\u001b[0m private_key \u001b[38;5;241m=\u001b[39m base64\u001b[38;5;241m.\u001b[39mb64decode(private_key)\n\u001b[0;32m--> 174\u001b[0m txn \u001b[38;5;241m=\u001b[39m \u001b[43mencoding\u001b[49m\u001b[38;5;241;43m.\u001b[39;49m\u001b[43mmsgpack_encode\u001b[49m\u001b[43m(\u001b[49m\u001b[38;5;28;43mself\u001b[39;49m\u001b[43m)\u001b[49m\n\u001b[1;32m    175\u001b[0m to_sign \u001b[38;5;241m=\u001b[39m constants\u001b[38;5;241m.\u001b[39mtxid_prefix \u001b[38;5;241m+\u001b[39m base64\u001b[38;5;241m.\u001b[39mb64decode(txn)\n\u001b[1;32m    176\u001b[0m signing_key \u001b[38;5;241m=\u001b[39m SigningKey(private_key[: constants\u001b[38;5;241m.\u001b[39mkey_len_bytes])\n",
      "File \u001b[0;32m~/anaconda3/envs/py310/lib/python3.10/site-packages/algosdk/encoding.py:31\u001b[0m, in \u001b[0;36mmsgpack_encode\u001b[0;34m(obj)\u001b[0m\n\u001b[1;32m     29\u001b[0m d \u001b[38;5;241m=\u001b[39m obj\n\u001b[1;32m     30\u001b[0m \u001b[38;5;28;01mif\u001b[39;00m \u001b[38;5;129;01mnot\u001b[39;00m \u001b[38;5;28misinstance\u001b[39m(obj, \u001b[38;5;28mdict\u001b[39m):\n\u001b[0;32m---> 31\u001b[0m     d \u001b[38;5;241m=\u001b[39m \u001b[43mobj\u001b[49m\u001b[38;5;241;43m.\u001b[39;49m\u001b[43mdictify\u001b[49m\u001b[43m(\u001b[49m\u001b[43m)\u001b[49m\n\u001b[1;32m     32\u001b[0m od \u001b[38;5;241m=\u001b[39m _sort_dict(d)\n\u001b[1;32m     33\u001b[0m \u001b[38;5;28;01mreturn\u001b[39;00m base64\u001b[38;5;241m.\u001b[39mb64encode(msgpack\u001b[38;5;241m.\u001b[39mpackb(od, use_bin_type\u001b[38;5;241m=\u001b[39m\u001b[38;5;28;01mTrue\u001b[39;00m))\u001b[38;5;241m.\u001b[39mdecode()\n",
      "File \u001b[0;32m~/anaconda3/envs/py310/lib/python3.10/site-packages/algosdk/future/transaction.py:1705\u001b[0m, in \u001b[0;36mApplicationCallTxn.dictify\u001b[0;34m(self)\u001b[0m\n\u001b[1;32m   1702\u001b[0m \u001b[38;5;28;01mif\u001b[39;00m \u001b[38;5;28mself\u001b[39m\u001b[38;5;241m.\u001b[39mextra_pages:\n\u001b[1;32m   1703\u001b[0m     d[\u001b[38;5;124m\"\u001b[39m\u001b[38;5;124mapep\u001b[39m\u001b[38;5;124m\"\u001b[39m] \u001b[38;5;241m=\u001b[39m \u001b[38;5;28mself\u001b[39m\u001b[38;5;241m.\u001b[39mextra_pages\n\u001b[0;32m-> 1705\u001b[0m d\u001b[38;5;241m.\u001b[39mupdate(\u001b[38;5;28;43msuper\u001b[39;49m\u001b[43m(\u001b[49m\u001b[43mApplicationCallTxn\u001b[49m\u001b[43m,\u001b[49m\u001b[43m \u001b[49m\u001b[38;5;28;43mself\u001b[39;49m\u001b[43m)\u001b[49m\u001b[38;5;241;43m.\u001b[39;49m\u001b[43mdictify\u001b[49m\u001b[43m(\u001b[49m\u001b[43m)\u001b[49m)\n\u001b[1;32m   1706\u001b[0m od \u001b[38;5;241m=\u001b[39m OrderedDict(\u001b[38;5;28msorted\u001b[39m(d\u001b[38;5;241m.\u001b[39mitems()))\n\u001b[1;32m   1708\u001b[0m \u001b[38;5;28;01mreturn\u001b[39;00m od\n",
      "File \u001b[0;32m~/anaconda3/envs/py310/lib/python3.10/site-packages/algosdk/future/transaction.py:202\u001b[0m, in \u001b[0;36mTransaction.dictify\u001b[0;34m(self)\u001b[0m\n\u001b[1;32m    200\u001b[0m \u001b[38;5;28;01mif\u001b[39;00m \u001b[38;5;28mself\u001b[39m\u001b[38;5;241m.\u001b[39mnote:\n\u001b[1;32m    201\u001b[0m     d[\u001b[38;5;124m\"\u001b[39m\u001b[38;5;124mnote\u001b[39m\u001b[38;5;124m\"\u001b[39m] \u001b[38;5;241m=\u001b[39m \u001b[38;5;28mself\u001b[39m\u001b[38;5;241m.\u001b[39mnote\n\u001b[0;32m--> 202\u001b[0m d[\u001b[38;5;124m\"\u001b[39m\u001b[38;5;124msnd\u001b[39m\u001b[38;5;124m\"\u001b[39m] \u001b[38;5;241m=\u001b[39m \u001b[43mencoding\u001b[49m\u001b[38;5;241;43m.\u001b[39;49m\u001b[43mdecode_address\u001b[49m\u001b[43m(\u001b[49m\u001b[38;5;28;43mself\u001b[39;49m\u001b[38;5;241;43m.\u001b[39;49m\u001b[43msender\u001b[49m\u001b[43m)\u001b[49m\n\u001b[1;32m    203\u001b[0m d[\u001b[38;5;124m\"\u001b[39m\u001b[38;5;124mtype\u001b[39m\u001b[38;5;124m\"\u001b[39m] \u001b[38;5;241m=\u001b[39m \u001b[38;5;28mself\u001b[39m\u001b[38;5;241m.\u001b[39mtype\n\u001b[1;32m    204\u001b[0m \u001b[38;5;28;01mif\u001b[39;00m \u001b[38;5;28mself\u001b[39m\u001b[38;5;241m.\u001b[39mrekey_to:\n",
      "File \u001b[0;32m~/anaconda3/envs/py310/lib/python3.10/site-packages/algosdk/encoding.py:170\u001b[0m, in \u001b[0;36mdecode_address\u001b[0;34m(addr)\u001b[0m\n\u001b[1;32m    168\u001b[0m     \u001b[38;5;28;01mreturn\u001b[39;00m addr\n\u001b[1;32m    169\u001b[0m \u001b[38;5;28;01mif\u001b[39;00m \u001b[38;5;129;01mnot\u001b[39;00m \u001b[38;5;28mlen\u001b[39m(addr) \u001b[38;5;241m==\u001b[39m constants\u001b[38;5;241m.\u001b[39maddress_len:\n\u001b[0;32m--> 170\u001b[0m     \u001b[38;5;28;01mraise\u001b[39;00m error\u001b[38;5;241m.\u001b[39mWrongKeyLengthError\n\u001b[1;32m    171\u001b[0m decoded \u001b[38;5;241m=\u001b[39m base64\u001b[38;5;241m.\u001b[39mb32decode(_correct_padding(addr))\n\u001b[1;32m    172\u001b[0m addr \u001b[38;5;241m=\u001b[39m decoded[: \u001b[38;5;241m-\u001b[39mconstants\u001b[38;5;241m.\u001b[39mcheck_sum_len_bytes]\n",
      "\u001b[0;31mWrongKeyLengthError\u001b[0m: key length must be 58"
     ]
    }
   ],
   "source": [
    "call_app(client, sender, app_id)\n",
    "\n",
    "# read global state of application\n",
    "print(\"Global state:\", read_global_state(algod_client, 5))"
   ]
  },
  {
   "cell_type": "code",
   "execution_count": null,
   "id": "78d78c58-2328-48e0-93ae-8588d62fe298",
   "metadata": {},
   "outputs": [],
   "source": []
  }
 ],
 "metadata": {
  "kernelspec": {
   "display_name": "Python 3 (ipykernel)",
   "language": "python",
   "name": "python3"
  },
  "language_info": {
   "codemirror_mode": {
    "name": "ipython",
    "version": 3
   },
   "file_extension": ".py",
   "mimetype": "text/x-python",
   "name": "python",
   "nbconvert_exporter": "python",
   "pygments_lexer": "ipython3",
   "version": "3.10.4"
  }
 },
 "nbformat": 4,
 "nbformat_minor": 5
}
