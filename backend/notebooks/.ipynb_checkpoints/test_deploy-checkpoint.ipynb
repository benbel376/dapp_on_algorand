{
 "cells": [
  {
   "cell_type": "code",
   "execution_count": 1,
   "id": "98317dd7-c0fb-4ce3-bb69-777034869eb6",
   "metadata": {},
   "outputs": [],
   "source": [
    "# build transaction\n",
    "from algosdk.future import transaction\n",
    "from algosdk import constants\n",
    "from algosdk.v2client import algod\n",
    "from algosdk import account, mnemonic\n",
    "import base64\n",
    "import logging\n",
    "import sys\n",
    "from pyteal import *"
   ]
  },
  {
   "cell_type": "code",
   "execution_count": 2,
   "id": "7a9c48d3-216f-4a37-bbb0-d22b6b6c3e5d",
   "metadata": {},
   "outputs": [],
   "source": [
    "sys.path.insert(1, '../contracts')\n",
    "sys.path.append(\"..\")\n",
    "sys.path.append(\".\")\n",
    "\n",
    "from test_contract import approval_program, clear_state_program"
   ]
  },
  {
   "cell_type": "code",
   "execution_count": 3,
   "id": "ef762f18-4eb0-4bf4-8645-d9385083c0f6",
   "metadata": {},
   "outputs": [],
   "source": [
    "def get_private_key_from_mnemonic(mn) :\n",
    "    private_key = mnemonic.to_private_key(mn)\n",
    "    return private_key\n",
    "\n",
    "def compile_program(client, contract):\n",
    "    teal = compileTeal(contract, mode=Mode.Application, version=5)\n",
    "    response = client.compile(teal)\n",
    "    return base64.b64decode(response[\"result\"])\n",
    "\n",
    "\n",
    "def get_client(addr, token):\n",
    "    algod_client = algod.AlgodClient(token, addr)\n",
    "    return algod_client"
   ]
  },
  {
   "cell_type": "code",
   "execution_count": 4,
   "id": "58e9f265-8976-4785-849c-db840754d607",
   "metadata": {},
   "outputs": [],
   "source": [
    "algod_address = \"http://localhost:4001\"\n",
    "algod_token = \"aaaaaaaaaaaaaaaaaaaaaaaaaaaaaaaaaaaaaaaaaaaaaaaaaaaaaaaaaaaaaaaa\"\n",
    "client = get_client(algod_address, algod_token)\n",
    "sender_addr = \"L6ZS626IHSZN7SB6B2WFVW4G6EL2VNKGPP6KQB2FMOQOCRLAZFG3C5BIIY\"\n",
    "sender_pass = \"dove tomato solid light purpose shrug shaft blade scrub ten peace bulk \\\n",
    "                net dynamic broken exotic dog knife method august goat drive recycle abandon limb\"\n",
    "sender_private = get_private_key_from_mnemonic(sender_pass)\n",
    "sender = {\"passphrase\":sender_pass, \"private_key\":sender_private, \"address\": sender_addr}"
   ]
  },
  {
   "cell_type": "code",
   "execution_count": 5,
   "id": "0b839a28-6269-4e09-8d96-7836f5d86fda",
   "metadata": {},
   "outputs": [],
   "source": [
    "# create new application\n",
    "def create_app(client, private_key, approval_program, clear_program, global_schema, local_schema, app_args):\n",
    "    # define sender as creator\n",
    "    sender = account.address_from_private_key(private_key)\n",
    "\n",
    "    # declare on_complete as NoOp\n",
    "    on_complete = transaction.OnComplete.NoOpOC.real\n",
    "\n",
    "    # get node suggested parameters\n",
    "    params = client.suggested_params()\n",
    "    \n",
    "    # create unsigned transaction\n",
    "    txn = transaction.ApplicationCreateTxn(\n",
    "        sender=sender,\n",
    "        on_complete=on_complete,\n",
    "        approval_program=approval_program,\n",
    "        clear_program=clear_program,\n",
    "        global_schema=global_schema,\n",
    "        local_schema=local_schema,\n",
    "        app_args=app_args,\n",
    "        sp=params,\n",
    "    )\n",
    "    \n",
    "    # sign transaction\n",
    "    signed_txn = txn.sign(private_key)\n",
    "    tx_id = signed_txn.transaction.get_txid()\n",
    "\n",
    "    # send transaction\n",
    "    client.send_transactions([signed_txn])\n",
    "\n",
    "    # wait for confirmation\n",
    "    try:\n",
    "        transaction_response = transaction.wait_for_confirmation(client, tx_id, 4)\n",
    "        print(\"TXID: \", tx_id)\n",
    "        print(\"Result confirmed in round: {}\".format(transaction_response['confirmed-round']))\n",
    "\n",
    "    except Exception as err:\n",
    "        print(err)\n",
    "        return\n",
    "\n",
    "    # display results\n",
    "    transaction_response = client.pending_transaction_info(tx_id)\n",
    "    app_id = transaction_response['application-index']\n",
    "    print(\"Created new app-id:\", app_id)\n",
    "\n",
    "    return app_id\n"
   ]
  },
  {
   "cell_type": "code",
   "execution_count": 6,
   "id": "c3f3eb33-22ef-47e2-82fc-bad7e4beeee7",
   "metadata": {},
   "outputs": [],
   "source": [
    "# helper function that formats global state for printing\n",
    "def format_state(state):\n",
    "    formatted = {}\n",
    "    for item in state:\n",
    "        key = item['key']\n",
    "        value = item['value']\n",
    "        formatted_key = base64.b64decode(key).decode('utf-8')\n",
    "        if value['type'] == 1:\n",
    "            # byte string\n",
    "            if formatted_key == 'voted':\n",
    "                formatted_value = base64.b64decode(value['bytes']).decode('utf-8')\n",
    "            else:\n",
    "                formatted_value = value['bytes']\n",
    "            formatted[formatted_key] = formatted_value\n",
    "        else:\n",
    "            # integer\n",
    "            formatted[formatted_key] = value['uint']\n",
    "    return formatted\n",
    "\n",
    "# helper function to read app global state\n",
    "def read_global_state(client, app_id):\n",
    "    app = client.application_info(app_id)\n",
    "    global_state = app['params']['global-state'] if \"global-state\" in app['params'] else []\n",
    "    return format_state(global_state)"
   ]
  },
  {
   "cell_type": "code",
   "execution_count": 7,
   "id": "caa82dff-af94-40ff-b1d1-316759344d40",
   "metadata": {},
   "outputs": [
    {
     "name": "stdout",
     "output_type": "stream",
     "text": [
      "--------------------------------------------\n",
      "Deploying Counter application......\n"
     ]
    },
    {
     "ename": "TealInputError",
     "evalue": "Unknown argument type: <class 'pyteal.TxnaExpr'>",
     "output_type": "error",
     "traceback": [
      "\u001b[0;31m---------------------------------------------------------------------------\u001b[0m",
      "\u001b[0;31mTealInputError\u001b[0m                            Traceback (most recent call last)",
      "Input \u001b[0;32mIn [7]\u001b[0m, in \u001b[0;36m<cell line: 12>\u001b[0;34m()\u001b[0m\n\u001b[1;32m      9\u001b[0m \u001b[38;5;28mprint\u001b[39m(\u001b[38;5;124m\"\u001b[39m\u001b[38;5;124mDeploying Counter application......\u001b[39m\u001b[38;5;124m\"\u001b[39m)\n\u001b[1;32m     11\u001b[0m \u001b[38;5;66;03m# compile program to binary\u001b[39;00m\n\u001b[0;32m---> 12\u001b[0m approval_program_compiled \u001b[38;5;241m=\u001b[39m compile_program(client, \u001b[43mapproval_program\u001b[49m\u001b[43m(\u001b[49m\u001b[43m)\u001b[49m)\n\u001b[1;32m     14\u001b[0m \u001b[38;5;66;03m# compile program to binary\u001b[39;00m\n\u001b[1;32m     15\u001b[0m clear_state_program_compiled \u001b[38;5;241m=\u001b[39m compile_program(client, clear_state_program())\n",
      "File \u001b[0;32m~/10_acad/week_6/dapp_on_algorand/backend/notebooks/../contracts/test_contract.py:9\u001b[0m, in \u001b[0;36mapproval_program\u001b[0;34m()\u001b[0m\n\u001b[1;32m      6\u001b[0m \u001b[38;5;28;01mdef\u001b[39;00m \u001b[38;5;21mapproval_program\u001b[39m():\n\u001b[1;32m      7\u001b[0m     handle_creation \u001b[38;5;241m=\u001b[39m Seq([\n\u001b[1;32m      8\u001b[0m         App\u001b[38;5;241m.\u001b[39mglobalPut(Bytes(\u001b[38;5;124m\"\u001b[39m\u001b[38;5;124mCreator\u001b[39m\u001b[38;5;124m\"\u001b[39m), Txn\u001b[38;5;241m.\u001b[39msender()),\n\u001b[0;32m----> 9\u001b[0m         App\u001b[38;5;241m.\u001b[39mglobalPut(Bytes(\u001b[38;5;124m\"\u001b[39m\u001b[38;5;124mmember1\u001b[39m\u001b[38;5;124m\"\u001b[39m), (\u001b[43mBytes\u001b[49m\u001b[43m(\u001b[49m\u001b[43mTxn\u001b[49m\u001b[38;5;241;43m.\u001b[39;49m\u001b[43mapplication_args\u001b[49m\u001b[43m[\u001b[49m\u001b[38;5;241;43m0\u001b[39;49m\u001b[43m]\u001b[49m\u001b[43m)\u001b[49m)),\n\u001b[1;32m     10\u001b[0m         App\u001b[38;5;241m.\u001b[39mglobalPut(Bytes(\u001b[38;5;124m\"\u001b[39m\u001b[38;5;124mmember2\u001b[39m\u001b[38;5;124m\"\u001b[39m), (Bytes(Txn\u001b[38;5;241m.\u001b[39mapplication_args[\u001b[38;5;241m1\u001b[39m]))),\n\u001b[1;32m     11\u001b[0m         App\u001b[38;5;241m.\u001b[39mglobalPut(Bytes(\u001b[38;5;124m\"\u001b[39m\u001b[38;5;124mmember3\u001b[39m\u001b[38;5;124m\"\u001b[39m), (Bytes(Txn\u001b[38;5;241m.\u001b[39mapplication_args[\u001b[38;5;241m2\u001b[39m]))),\n\u001b[1;32m     12\u001b[0m         App\u001b[38;5;241m.\u001b[39mglobalPut(Bytes(\u001b[38;5;124m\"\u001b[39m\u001b[38;5;124mmember4\u001b[39m\u001b[38;5;124m\"\u001b[39m), (Bytes(Txn\u001b[38;5;241m.\u001b[39mapplication_args[\u001b[38;5;241m3\u001b[39m]))),\n\u001b[1;32m     13\u001b[0m         Return(Int(\u001b[38;5;241m1\u001b[39m)),\n\u001b[1;32m     14\u001b[0m     ])\n\u001b[1;32m     16\u001b[0m     handle_optin \u001b[38;5;241m=\u001b[39m Return(Int(\u001b[38;5;241m0\u001b[39m))\n\u001b[1;32m     17\u001b[0m     handle_closeout \u001b[38;5;241m=\u001b[39m Return(Int(\u001b[38;5;241m0\u001b[39m))\n",
      "File \u001b[0;32m~/anaconda3/envs/py310/lib/python3.10/site-packages/pyteal/ast/bytes.py:50\u001b[0m, in \u001b[0;36mBytes.__init__\u001b[0;34m(self, arg1, arg2)\u001b[0m\n\u001b[1;32m     48\u001b[0m         \u001b[38;5;28mself\u001b[39m\u001b[38;5;241m.\u001b[39mbyte_str \u001b[38;5;241m=\u001b[39m cast(Union[\u001b[38;5;28mbytes\u001b[39m, \u001b[38;5;28mbytearray\u001b[39m], arg1)\u001b[38;5;241m.\u001b[39mhex()\n\u001b[1;32m     49\u001b[0m     \u001b[38;5;28;01melse\u001b[39;00m:\n\u001b[0;32m---> 50\u001b[0m         \u001b[38;5;28;01mraise\u001b[39;00m TealInputError(\u001b[38;5;124m\"\u001b[39m\u001b[38;5;124mUnknown argument type: \u001b[39m\u001b[38;5;132;01m{}\u001b[39;00m\u001b[38;5;124m\"\u001b[39m\u001b[38;5;241m.\u001b[39mformat(\u001b[38;5;28mtype\u001b[39m(arg1)))\n\u001b[1;32m     51\u001b[0m \u001b[38;5;28;01melse\u001b[39;00m:\n\u001b[1;32m     52\u001b[0m     \u001b[38;5;28;01mif\u001b[39;00m \u001b[38;5;28mtype\u001b[39m(arg1) \u001b[38;5;129;01mis\u001b[39;00m \u001b[38;5;129;01mnot\u001b[39;00m \u001b[38;5;28mstr\u001b[39m:\n",
      "\u001b[0;31mTealInputError\u001b[0m: Unknown argument type: <class 'pyteal.TxnaExpr'>"
     ]
    }
   ],
   "source": [
    "# declare application state storage (immutable)\n",
    "local_ints = 0\n",
    "local_bytes = 0\n",
    "global_ints = 1\n",
    "global_bytes = 10\n",
    "global_schema = transaction.StateSchema(global_ints, global_bytes)\n",
    "local_schema = transaction.StateSchema(local_ints, local_bytes)\n",
    "print(\"--------------------------------------------\")\n",
    "print(\"Deploying Counter application......\")\n",
    "\n",
    "# compile program to binary\n",
    "approval_program_compiled = compile_program(client, approval_program())\n",
    "\n",
    "# compile program to binary\n",
    "clear_state_program_compiled = compile_program(client, clear_state_program())\n",
    "\n",
    "members_list = [\"one\", \"two\", \"L6ZS626IHSZN7SB6B2WFVW4G6EL2VNKGPP6KQB2FMOQOCRLAZFG3C5BIIY\", \"6UMSNCZUNWOTWAYRQKE3CV6JXSVLPYA4BMG77CKZM75VASAAOFSLNKTALA\"]\n",
    "# create new application\n",
    "app_id = create_app(client, sender[\"private_key\"], approval_program_compiled, clear_state_program_compiled, \n",
    "                    global_schema, local_schema, members_list)\n",
    "\n",
    "# read global state of application\n",
    "print(\"Global state:\", read_global_state(client, app_id))"
   ]
  },
  {
   "cell_type": "code",
   "execution_count": null,
   "id": "1951c8e6-2488-49d0-9040-cb52248f9e90",
   "metadata": {},
   "outputs": [],
   "source": [
    "# call application\n",
    "def call_app(client, private_key, index, app_args) :\n",
    "    # declare sender\n",
    "    sender = account.address_from_private_key(private_key)\n",
    "\n",
    "    # get node suggested parameters\n",
    "    params = client.suggested_params()\n",
    "\n",
    "    # create unsigned transaction\n",
    "    txn = transaction.ApplicationNoOpTxn(sender, params, index, app_args)\n",
    "\n",
    "    # sign transaction\n",
    "    signed_txn = txn.sign(private_key)\n",
    "    tx_id = signed_txn.transaction.get_txid()\n",
    "\n",
    "    # send transaction\n",
    "    client.send_transactions([signed_txn])\n",
    "\n",
    "    # wait for confirmation\n",
    "    try:\n",
    "        transaction_response = transaction.wait_for_confirmation(client, tx_id, 5)\n",
    "        print(\"TXID: \", tx_id)\n",
    "        print(\"Result confirmed in round: {}\".format(transaction_response['confirmed-round']))\n",
    "\n",
    "    except Exception as err:\n",
    "        print(err)\n",
    "        return\n",
    "    print(\"Application called\")\n"
   ]
  },
  {
   "cell_type": "code",
   "execution_count": null,
   "id": "74b73cd6-df06-4206-9c6e-364922c062ce",
   "metadata": {},
   "outputs": [],
   "source": [
    "sender2_addr = \"6UMSNCZUNWOTWAYRQKE3CV6JXSVLPYA4BMG77CKZM75VASAAOFSLNKTALA\"\n",
    "sender2_pass = \"select canyon order half resemble clever tissue panther tunnel agent inspire \\\n",
    "            degree system donate gorilla strong vocal divide about magic vessel beef throw ability idea\"\n",
    "sender2_private = get_private_key_from_mnemonic(sender_pass)\n",
    "sender2 = {\"passphrase\":sender2_pass, \"private_key\":sender2_private, \"address\": sender2_addr}"
   ]
  },
  {
   "cell_type": "code",
   "execution_count": null,
   "id": "90e112f6-5918-49c3-bc95-a4b657cfa5fa",
   "metadata": {},
   "outputs": [],
   "source": [
    "print(\"--------------------------------------------\")\n",
    "print(\"Calling Counter application......\")\n",
    "app_args = [\"6UMSNCZUNWOTWAYRQKE3CV6JXSVLPYA4BMG77CKZM75VASAAOFSLNKTALA\"]\n",
    "call_app(client, sender2_private, app_id, app_args)\n",
    "\n",
    "# read global state of application\n",
    "print(\"Global state:\", read_global_state(client, app_id))\n"
   ]
  },
  {
   "cell_type": "code",
   "execution_count": null,
   "id": "78d78c58-2328-48e0-93ae-8588d62fe298",
   "metadata": {},
   "outputs": [],
   "source": []
  }
 ],
 "metadata": {
  "kernelspec": {
   "display_name": "Python 3 (ipykernel)",
   "language": "python",
   "name": "python3"
  },
  "language_info": {
   "codemirror_mode": {
    "name": "ipython",
    "version": 3
   },
   "file_extension": ".py",
   "mimetype": "text/x-python",
   "name": "python",
   "nbconvert_exporter": "python",
   "pygments_lexer": "ipython3",
   "version": "3.10.4"
  }
 },
 "nbformat": 4,
 "nbformat_minor": 5
}
