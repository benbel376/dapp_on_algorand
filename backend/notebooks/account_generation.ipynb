{
 "cells": [
  {
   "cell_type": "code",
   "execution_count": null,
   "metadata": {},
   "outputs": [],
   "source": [
    "# build transaction\n",
    "from algosdk.future import transaction\n",
    "from algosdk import constants\n",
    "from algosdk.v2client import algod\n",
    "import logging\n"
   ]
  },
  {
   "cell_type": "code",
   "execution_count": null,
   "metadata": {},
   "outputs": [],
   "source": [
    "logger = logging.getLogger(__name__)\n",
    "logger.setLevel(logging.INFO)\n",
    "file_handler = logging.FileHandler(\"../logs/new_account_info.log\")\n",
    "        formatter = logging.Formatter(\n",
    "            \"%(message)s \\n\")\n",
    "        file_handler.setFormatter(formatter)\n",
    "        logger.addHandler(file_handler)"
   ]
  },
  {
   "cell_type": "code",
   "execution_count": null,
   "metadata": {},
   "outputs": [],
   "source": [
    "authorized_accounts = [\"one\", \"two\", \"three\"]\n",
    "test_account = \"three\"\n",
    "def check_availability():\n",
    "    for i in range(len(authorized_accounts)):\n",
    "        if(test_account == authorized_accounts[i]):\n",
    "\t\t\treturn(1)\n",
    "\t\telse:\n",
    "\t\t\treturn(0)"
   ]
  },
  {
   "cell_type": "code",
   "execution_count": null,
   "metadata": {},
   "outputs": [],
   "source": [
    "check_availability()"
   ]
  },
  {
   "cell_type": "code",
   "execution_count": null,
   "metadata": {},
   "outputs": [],
   "source": [
    "# create dummy accounts.\n",
    "from algosdk import account, mnemonic\n",
    "def generate_algorand_keypair():\n",
    "    private_key, address = account.generate_account()\n",
    "    passphrase = mnemonic.from_private_key(private_key))\n",
    "    account = {\"passphrase\":passphrase, \"private_key\":private_key, \"address\": address}\n",
    "    return account\n"
   ]
  },
  {
   "cell_type": "code",
   "execution_count": null,
   "metadata": {},
   "outputs": [],
   "source": [
    "def get_private_key_from_mnemonic(mn) :\n",
    "    private_key = mnemonic.to_private_key(mn)\n",
    "    return private_key"
   ]
  },
  {
   "cell_type": "code",
   "execution_count": null,
   "metadata": {},
   "outputs": [],
   "source": [
    "\n",
    "def get_client(addr, token):\n",
    "    algod_client = algod.AlgodClient(token, addr)\n",
    "    return algod_client"
   ]
  },
  {
   "cell_type": "code",
   "execution_count": null,
   "metadata": {},
   "outputs": [],
   "source": [
    "def fund_account(client, sender, receiver, amount)\n",
    "    params = client.suggested_params()\n",
    "    params.flat_fee = True\n",
    "    params.fee = constants.MIN_TXN_FEE \n",
    "    note = \"Hello World\".encode()\n",
    "    unsigned_txn = transaction.PaymentTxn(sender, params, receiver, amount, None, note)\n",
    "\n",
    "    return unsigned_txn, params.fee"
   ]
  },
  {
   "cell_type": "code",
   "execution_count": null,
   "metadata": {},
   "outputs": [],
   "source": [
    "# sign transaction\n",
    "\n",
    "def sign_transaction(passphrase)\n",
    "    private_key = get_private_key_from_mnemonic(passphrase)\n",
    "    signed_txn = unsigned_txn.sign(private_key)\n",
    "\n",
    "    return signed_txn"
   ]
  },
  {
   "cell_type": "code",
   "execution_count": null,
   "metadata": {},
   "outputs": [],
   "source": [
    "def send_trans(client, signed_txn):\n",
    "    txid = client.send_transaction(signed_txn)\n",
    "\n",
    "    # # wait for confirmation \n",
    "    try:\n",
    "        confirmed_txn = transaction.wait_for_confirmation(algod_client, txid, 4)  \n",
    "        print(\"Successfully sent transaction with txID: {}\".format(txid))\n",
    "        return [txid, confirmed_txn]\n",
    "    except Exception as err:\n",
    "        print(err)\n",
    "        print(\"Transaction with txID failed: {}\".format(txid))\n",
    "        return [txid, \"failed\"]\n",
    "    "
   ]
  },
  {
   "cell_type": "code",
   "execution_count": null,
   "metadata": {},
   "outputs": [],
   "source": [
    "def create_funded_accounts(num_accounts, client, sender, amount):\n",
    "    for i in range(num_accounts):\n",
    "        account = generate_algorand_keypair()\n",
    "        # fund created account\n",
    "        transaction, fee = fund_account(client, sender[\"address\"], account[\"address\"], amount)\n",
    "        # sign transaction\n",
    "        signed_trans = sign_transaction(sender[\"private_key\"])\n",
    "        # send transaction\n",
    "        info = send_trans(client, signed_txn)\n",
    "        if(info[1] != \"failed\"):\n",
    "            confirmed_txn = info[1]\n",
    "            txid\n",
    "            logger.info(\"*\"*50)\n",
    "            logger.info(\"*\"*50)\n",
    "            logger.info(account)\n",
    "            logger.info(\"*\"*50)\n",
    "            logger.info(\"Decoded note: {}\".format(base64.b64decode(\n",
    "                confirmed_txn[\"txn\"][\"txn\"][\"note\"]).decode()))\n",
    "            logger.info(\"Starting Account balance: {} microAlgos\".format(account_info.get('amount')) )\n",
    "            logger.info(\"Amount transfered: {} microAlgos\".format(amount) )    \n",
    "            logger.info(\"Fee: {} microAlgos\".format(fee) ) \n",
    "            account_info = client.account_info(my_address)\n",
    "            logger.info(\"Final Account balance: {} microAlgos\".format(account_info.get('amount')) + \"\\n\")\n",
    "            logger.info(\"\\n\")\n",
    "            \n",
    "        "
   ]
  },
  {
   "cell_type": "code",
   "execution_count": null,
   "metadata": {},
   "outputs": [],
   "source": [
    "#initilize client\n",
    "algod_address = \"http://localhost:4001\"\n",
    "algod_token = \"aaaaaaaaaaaaaaaaaaaaaaaaaaaaaaaaaaaaaaaaaaaaaaaaaaaaaaaaaaaaaaaa\"\n",
    "client = get_client(algod_address, algod_token)\n",
    "num_accounts = 3\n",
    "sender = {}\n",
    "amount = 100000\n",
    "\n",
    "# create funded accounts\n",
    "create_funded_accounts(num_accounts, client, sender, amount)\n"
   ]
  }
 ],
 "metadata": {
  "kernelspec": {
   "display_name": "Python 3.10.4 ('py310')",
   "language": "python",
   "name": "python3"
  },
  "language_info": {
   "name": "python",
   "version": "3.10.4"
  },
  "orig_nbformat": 4,
  "vscode": {
   "interpreter": {
    "hash": "a007d0015833e9236a79f92c0a64391d056750d045acb7dec5d5fc4694859575"
   }
  }
 },
 "nbformat": 4,
 "nbformat_minor": 2
}
