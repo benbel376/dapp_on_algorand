{
 "cells": [
  {
   "cell_type": "code",
   "execution_count": 1,
   "metadata": {},
   "outputs": [],
   "source": [
    "from algosdk import account, mnemonic\n",
    "\n",
    "def generate_algorand_keypair():\n",
    "    private_key, address = account.generate_account()\n",
    "    print(\"My address: {}\".format(address))\n",
    "    print(\"My passphrase: {}\".format(mnemonic.from_private_key(private_key)))\n",
    "    \n",
    "# helper function that converts a mnemonic passphrase into a private signing key\n",
    "def get_private_key_from_mnemonic(mn) :\n",
    "    private_key = mnemonic.to_private_key(mn)\n",
    "    return private_key"
   ]
  },
  {
   "cell_type": "code",
   "execution_count": 2,
   "metadata": {},
   "outputs": [
    {
     "name": "stdout",
     "output_type": "stream",
     "text": [
      "My address: 3YRIMZRXL4PVHV6A7OG5OYGIZNNASFQEJNJBF2GGNPWXF57OI42BHYQX64\n",
      "My passphrase: pulse toddler fall earth gallery release glow then tomorrow orient change rude hole swap ensure wash antique quiz slide visual menu melody crazy about disagree\n"
     ]
    }
   ],
   "source": [
    "generate_algorand_keypair()"
   ]
  },
  {
   "cell_type": "code",
   "execution_count": null,
   "metadata": {},
   "outputs": [],
   "source": [
    "// create client object to connect to Sandbox's algod client\n",
    "const algodToken = 'aaaaaaaaaaaaaaaaaaaaaaaaaaaaaaaaaaaaaaaaaaaaaaaaaaaaaaaaaaaaaaaa';\n",
    "const algodServer = 'http://localhost';\n",
    "const algodPort = 4001;\n",
    "let algodClient = new algosdk.Algodv2(algodToken, algodServer, algodPort);\n",
    "\n",
    "fromAddr = get_private_key_from_mnemonic(\"joke depend gain feature vintage spring permit loyal need crouch leopard cake major fit nurse only focus s\\\n",
    "catter indicate weasel door subject typical abandon wave\"); // replace with your mnemonic \n",
    "\n",
    "toAddr = \"OXESBPM4MF7ZDLA6OR4S64E26ZDBA47EQO73BGP3XWLXU4DFOC53Q3DN4Q\" // replace with generated receiver address\n",
    "\n",
    "\n",
    "# get node suggested parameters\n",
    "params = client.suggested_params()\n",
    "\n",
    "# create unsigned transaction\n",
    "txn = transaction.ApplicationNoOpTxn(sender, params, index, app_args)\n",
    "\n",
    "# sign transaction\n",
    "signed_txn = txn.sign(fromAddr)\n",
    "tx_id = signed_txn.transaction.get_txid()\n",
    "\n",
    "var amount uint64 = 1000000\n",
    "var minFee uint64 = transaction.MinTxnFee \n",
    "note := []byte(\"Hello World\")\n",
    "genID := txParams.GenesisID\n",
    "genHash := txParams.GenesisHash\n",
    "firstValidRound := uint64(txParams.FirstRoundValid)\n",
    "lastValidRound := uint64(txParams.LastRoundValid)\n",
    "txn, err := transaction.MakePaymentTxnWithFlatFee(fromAddr, toAddr, minFee, amount, firstValidRound, lastValidRound, note, \"\", genID, genHash)\n",
    "if err != nil {\n",
    "    fmt.Printf(\"Error creating transaction: %s\\n\", err)\n",
    "    return\n",
    "}\n"
   ]
  }
 ],
 "metadata": {
  "kernelspec": {
   "display_name": "Python 3.9.7 ('base')",
   "language": "python",
   "name": "python3"
  },
  "language_info": {
   "codemirror_mode": {
    "name": "ipython",
    "version": 3
   },
   "file_extension": ".py",
   "mimetype": "text/x-python",
   "name": "python",
   "nbconvert_exporter": "python",
   "pygments_lexer": "ipython3",
   "version": "3.9.7"
  },
  "orig_nbformat": 4,
  "vscode": {
   "interpreter": {
    "hash": "2b997b5b8794c030e25a28be498e8226ee8897df85ede9190db777bdc9cc75be"
   }
  }
 },
 "nbformat": 4,
 "nbformat_minor": 2
}
