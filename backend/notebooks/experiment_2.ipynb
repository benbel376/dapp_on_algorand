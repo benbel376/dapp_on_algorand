{
 "cells": [
  {
   "cell_type": "code",
   "execution_count": 1,
   "metadata": {},
   "outputs": [],
   "source": [
    "from time import time, sleep\n",
    "\n",
    "from algosdk import account, encoding\n",
    "from algosdk.logic import get_application_address\n",
    "from auction.operations import createAuctionApp, setupAuctionApp, placeBid, closeAuction\n",
    "from auction.util import (\n",
    "    getBalances,\n",
    "    getAppGlobalState,\n",
    "    getLastBlockTimestamp,\n",
    ")\n",
    "from auction.testing.setup import getAlgodClient\n",
    "from auction.testing.resources import (\n",
    "    getTemporaryAccount,\n",
    "    optInToAsset,\n",
    "    createDummyAsset,\n",
    ")"
   ]
  },
  {
   "cell_type": "code",
   "execution_count": 2,
   "metadata": {},
   "outputs": [
    {
     "name": "stdout",
     "output_type": "stream",
     "text": [
      "Generating temporary accounts...\n",
      "Alice (seller account): I2IXJCGPLT6AAMS73DQW3SRRAUFPWOFVLOQNVNIOISM26N7QZ2JSWA26AA\n",
      "Bob (auction creator account): FPRFEHUTRDSIQ5UP3LPCGOEKZSABG6DFWOO3ZN5LU535G3GZYF6ZR3RUCE\n",
      "Carla (bidder account) DY5ODJSZMW6SDPKJ4VGEQWIORNPIZKJZLXXS7NFW4QRLITKNEVUBHRBJIQ \n",
      "\n"
     ]
    }
   ],
   "source": [
    "client = getAlgodClient()\n",
    "print(\"Generating temporary accounts...\")\n",
    "creator = getTemporaryAccount(client)\n",
    "seller = getTemporaryAccount(client)\n",
    "bidder = getTemporaryAccount(client)\n",
    "\n",
    "print(\"Alice (seller account):\", seller.getAddress())\n",
    "print(\"Bob (auction creator account):\", creator.getAddress())\n",
    "print(\"Carla (bidder account)\", bidder.getAddress(), \"\\n\")\n"
   ]
  },
  {
   "cell_type": "code",
   "execution_count": 3,
   "metadata": {},
   "outputs": [
    {
     "name": "stdout",
     "output_type": "stream",
     "text": [
      "Alice is generating an example NFT...\n",
      "The NFT ID is 17\n",
      "Alice's balances: {0: 99999000, 17: 1} \n",
      "\n"
     ]
    }
   ],
   "source": [
    "print(\"Alice is generating an example NFT...\")\n",
    "nftAmount = 1\n",
    "nftID = createDummyAsset(client, nftAmount, seller)\n",
    "print(\"The NFT ID is\", nftID)\n",
    "print(\"Alice's balances:\", getBalances(client, seller.getAddress()), \"\\n\")"
   ]
  },
  {
   "cell_type": "code",
   "execution_count": 4,
   "metadata": {},
   "outputs": [
    {
     "name": "stdout",
     "output_type": "stream",
     "text": [
      "Bob is creating an auction that lasts 30 seconds to auction off the NFT...\n",
      "Done. The auction app ID is 18 and the escrow account is TYLKPGKW3Q2XA3WRE4VILV3SAJXBC2OIK37RMBO52Q6K4MAPMXKVXLNFCM \n",
      "\n"
     ]
    }
   ],
   "source": [
    "startTime = int(time()) + 10  # start time is 10 seconds in the future\n",
    "endTime = startTime + 60  # end time is 30 seconds after start\n",
    "reserve = 1_000_000  # 1 Algo\n",
    "increment = 100_000  # 0.1 Algo\n",
    "print(\"Bob is creating an auction that lasts 30 seconds to auction off the NFT...\")\n",
    "appID = createAuctionApp(\n",
    "    client=client,\n",
    "    sender=creator,\n",
    "    seller=seller.getAddress(),\n",
    "    nftID=nftID,\n",
    "    startTime=startTime,\n",
    "    endTime=endTime,\n",
    "    reserve=reserve,\n",
    "    minBidIncrement=increment,\n",
    ")\n",
    "print(\n",
    "    \"Done. The auction app ID is\",\n",
    "    appID,\n",
    "    \"and the escrow account is\",\n",
    "    get_application_address(appID),\n",
    "    \"\\n\",\n",
    ")"
   ]
  },
  {
   "cell_type": "code",
   "execution_count": 5,
   "metadata": {},
   "outputs": [
    {
     "name": "stdout",
     "output_type": "stream",
     "text": [
      "Alice is setting up and funding NFT auction...\n",
      "Done\n",
      "\n"
     ]
    }
   ],
   "source": [
    "print(\"Alice is setting up and funding NFT auction...\")\n",
    "setupAuctionApp(\n",
    "    client=client,\n",
    "    appID=appID,\n",
    "    funder=creator,\n",
    "    nftHolder=seller,\n",
    "    nftID=nftID,\n",
    "    nftAmount=nftAmount,\n",
    ")\n",
    "print(\"Done\\n\")\n"
   ]
  },
  {
   "cell_type": "code",
   "execution_count": 6,
   "metadata": {},
   "outputs": [
    {
     "name": "stdout",
     "output_type": "stream",
     "text": [
      "Alice's balances: {0: 99998000, 17: 0}\n",
      "Auction escrow balances: {0: 202000, 17: 1} \n",
      "\n"
     ]
    }
   ],
   "source": [
    "sellerBalancesBefore = getBalances(client, seller.getAddress())\n",
    "sellerAlgosBefore = sellerBalancesBefore[0]\n",
    "print(\"Alice's balances:\", sellerBalancesBefore)\n",
    "\n",
    "_, lastRoundTime = getLastBlockTimestamp(client)\n",
    "if lastRoundTime < startTime + 5:\n",
    "    sleep(startTime + 5 - lastRoundTime)\n",
    "actualAppBalancesBefore = getBalances(client, get_application_address(appID))\n",
    "print(\"Auction escrow balances:\", actualAppBalancesBefore, \"\\n\")\n"
   ]
  },
  {
   "cell_type": "code",
   "execution_count": 7,
   "metadata": {},
   "outputs": [
    {
     "name": "stdout",
     "output_type": "stream",
     "text": [
      "Carla wants to bid on NFT, her balances: {0: 100000000}\n",
      "Carla is placing bid for 1000000 microAlgos\n",
      "so far so good!!........\n"
     ]
    },
    {
     "ename": "AlgodHTTPError",
     "evalue": "TransactionPool.Remember: transaction M6SKRBFLI5SVRYGPGUEWWGB3ONXDYRALGVFH4JXMSS5NIH65DQXQ: logic eval error: assert failed pc=335. Details: pc=335, opcodes=>=\n&&\nassert\n",
     "output_type": "error",
     "traceback": [
      "\u001b[1;31m---------------------------------------------------------------------------\u001b[0m",
      "\u001b[1;31mHTTPError\u001b[0m                                 Traceback (most recent call last)",
      "File \u001b[1;32mc:\\Users\\IRONMAN\\miniconda3\\lib\\site-packages\\algosdk\\v2client\\algod.py:82\u001b[0m, in \u001b[0;36mAlgodClient.algod_request\u001b[1;34m(self, method, requrl, params, data, headers, response_format)\u001b[0m\n\u001b[0;32m     81\u001b[0m \u001b[39mtry\u001b[39;00m:\n\u001b[1;32m---> 82\u001b[0m     resp \u001b[39m=\u001b[39m urlopen(req)\n\u001b[0;32m     83\u001b[0m \u001b[39mexcept\u001b[39;00m urllib\u001b[39m.\u001b[39merror\u001b[39m.\u001b[39mHTTPError \u001b[39mas\u001b[39;00m e:\n",
      "File \u001b[1;32mc:\\Users\\IRONMAN\\miniconda3\\lib\\urllib\\request.py:214\u001b[0m, in \u001b[0;36murlopen\u001b[1;34m(url, data, timeout, cafile, capath, cadefault, context)\u001b[0m\n\u001b[0;32m    213\u001b[0m     opener \u001b[39m=\u001b[39m _opener\n\u001b[1;32m--> 214\u001b[0m \u001b[39mreturn\u001b[39;00m opener\u001b[39m.\u001b[39;49mopen(url, data, timeout)\n",
      "File \u001b[1;32mc:\\Users\\IRONMAN\\miniconda3\\lib\\urllib\\request.py:523\u001b[0m, in \u001b[0;36mOpenerDirector.open\u001b[1;34m(self, fullurl, data, timeout)\u001b[0m\n\u001b[0;32m    522\u001b[0m     meth \u001b[39m=\u001b[39m \u001b[39mgetattr\u001b[39m(processor, meth_name)\n\u001b[1;32m--> 523\u001b[0m     response \u001b[39m=\u001b[39m meth(req, response)\n\u001b[0;32m    525\u001b[0m \u001b[39mreturn\u001b[39;00m response\n",
      "File \u001b[1;32mc:\\Users\\IRONMAN\\miniconda3\\lib\\urllib\\request.py:632\u001b[0m, in \u001b[0;36mHTTPErrorProcessor.http_response\u001b[1;34m(self, request, response)\u001b[0m\n\u001b[0;32m    631\u001b[0m \u001b[39mif\u001b[39;00m \u001b[39mnot\u001b[39;00m (\u001b[39m200\u001b[39m \u001b[39m<\u001b[39m\u001b[39m=\u001b[39m code \u001b[39m<\u001b[39m \u001b[39m300\u001b[39m):\n\u001b[1;32m--> 632\u001b[0m     response \u001b[39m=\u001b[39m \u001b[39mself\u001b[39;49m\u001b[39m.\u001b[39;49mparent\u001b[39m.\u001b[39;49merror(\n\u001b[0;32m    633\u001b[0m         \u001b[39m'\u001b[39;49m\u001b[39mhttp\u001b[39;49m\u001b[39m'\u001b[39;49m, request, response, code, msg, hdrs)\n\u001b[0;32m    635\u001b[0m \u001b[39mreturn\u001b[39;00m response\n",
      "File \u001b[1;32mc:\\Users\\IRONMAN\\miniconda3\\lib\\urllib\\request.py:561\u001b[0m, in \u001b[0;36mOpenerDirector.error\u001b[1;34m(self, proto, *args)\u001b[0m\n\u001b[0;32m    560\u001b[0m args \u001b[39m=\u001b[39m (\u001b[39mdict\u001b[39m, \u001b[39m'\u001b[39m\u001b[39mdefault\u001b[39m\u001b[39m'\u001b[39m, \u001b[39m'\u001b[39m\u001b[39mhttp_error_default\u001b[39m\u001b[39m'\u001b[39m) \u001b[39m+\u001b[39m orig_args\n\u001b[1;32m--> 561\u001b[0m \u001b[39mreturn\u001b[39;00m \u001b[39mself\u001b[39;49m\u001b[39m.\u001b[39;49m_call_chain(\u001b[39m*\u001b[39;49margs)\n",
      "File \u001b[1;32mc:\\Users\\IRONMAN\\miniconda3\\lib\\urllib\\request.py:494\u001b[0m, in \u001b[0;36mOpenerDirector._call_chain\u001b[1;34m(self, chain, kind, meth_name, *args)\u001b[0m\n\u001b[0;32m    493\u001b[0m func \u001b[39m=\u001b[39m \u001b[39mgetattr\u001b[39m(handler, meth_name)\n\u001b[1;32m--> 494\u001b[0m result \u001b[39m=\u001b[39m func(\u001b[39m*\u001b[39;49margs)\n\u001b[0;32m    495\u001b[0m \u001b[39mif\u001b[39;00m result \u001b[39mis\u001b[39;00m \u001b[39mnot\u001b[39;00m \u001b[39mNone\u001b[39;00m:\n",
      "File \u001b[1;32mc:\\Users\\IRONMAN\\miniconda3\\lib\\urllib\\request.py:641\u001b[0m, in \u001b[0;36mHTTPDefaultErrorHandler.http_error_default\u001b[1;34m(self, req, fp, code, msg, hdrs)\u001b[0m\n\u001b[0;32m    640\u001b[0m \u001b[39mdef\u001b[39;00m \u001b[39mhttp_error_default\u001b[39m(\u001b[39mself\u001b[39m, req, fp, code, msg, hdrs):\n\u001b[1;32m--> 641\u001b[0m     \u001b[39mraise\u001b[39;00m HTTPError(req\u001b[39m.\u001b[39mfull_url, code, msg, hdrs, fp)\n",
      "\u001b[1;31mHTTPError\u001b[0m: HTTP Error 400: Bad Request",
      "\nDuring handling of the above exception, another exception occurred:\n",
      "\u001b[1;31mAlgodHTTPError\u001b[0m                            Traceback (most recent call last)",
      "\u001b[1;32mc:\\10\\week6\\project\\auction-demo\\example.ipynb Cell 7'\u001b[0m in \u001b[0;36m<cell line: 7>\u001b[1;34m()\u001b[0m\n\u001b[0;32m      <a href='vscode-notebook-cell:/c%3A/10/week6/project/auction-demo/example.ipynb#ch0000006?line=3'>4</a>\u001b[0m \u001b[39mprint\u001b[39m(\u001b[39m\"\u001b[39m\u001b[39mCarla wants to bid on NFT, her balances:\u001b[39m\u001b[39m\"\u001b[39m, bidderBalancesBefore)\n\u001b[0;32m      <a href='vscode-notebook-cell:/c%3A/10/week6/project/auction-demo/example.ipynb#ch0000006?line=4'>5</a>\u001b[0m \u001b[39mprint\u001b[39m(\u001b[39m\"\u001b[39m\u001b[39mCarla is placing bid for\u001b[39m\u001b[39m\"\u001b[39m, bidAmount, \u001b[39m\"\u001b[39m\u001b[39mmicroAlgos\u001b[39m\u001b[39m\"\u001b[39m)\n\u001b[1;32m----> <a href='vscode-notebook-cell:/c%3A/10/week6/project/auction-demo/example.ipynb#ch0000006?line=6'>7</a>\u001b[0m placeBid(client\u001b[39m=\u001b[39;49mclient, appID\u001b[39m=\u001b[39;49mappID, bidder\u001b[39m=\u001b[39;49mbidder, bidAmount\u001b[39m=\u001b[39;49mbidAmount)\n\u001b[0;32m      <a href='vscode-notebook-cell:/c%3A/10/week6/project/auction-demo/example.ipynb#ch0000006?line=8'>9</a>\u001b[0m \u001b[39mprint\u001b[39m(\u001b[39m\"\u001b[39m\u001b[39mCarla is opting into NFT with ID\u001b[39m\u001b[39m\"\u001b[39m, nftID)\n\u001b[0;32m     <a href='vscode-notebook-cell:/c%3A/10/week6/project/auction-demo/example.ipynb#ch0000006?line=10'>11</a>\u001b[0m optInToAsset(client, nftID, bidder)\n",
      "File \u001b[1;32mc:\\10\\week6\\project\\auction-demo\\auction\\operations.py:229\u001b[0m, in \u001b[0;36mplaceBid\u001b[1;34m(client, appID, bidder, bidAmount)\u001b[0m\n\u001b[0;32m    227\u001b[0m signedAppCallTxn \u001b[39m=\u001b[39m appCallTxn\u001b[39m.\u001b[39msign(bidder\u001b[39m.\u001b[39mgetPrivateKey())\n\u001b[0;32m    228\u001b[0m \u001b[39mprint\u001b[39m(\u001b[39m\"\u001b[39m\u001b[39mso far so good!!........\u001b[39m\u001b[39m\"\u001b[39m)\n\u001b[1;32m--> 229\u001b[0m client\u001b[39m.\u001b[39;49msend_transactions([signedPayTxn, signedAppCallTxn])\n\u001b[0;32m    231\u001b[0m waitForTransaction(client, appCallTxn\u001b[39m.\u001b[39mget_txid())\n",
      "File \u001b[1;32mc:\\Users\\IRONMAN\\miniconda3\\lib\\site-packages\\algosdk\\v2client\\algod.py:307\u001b[0m, in \u001b[0;36mAlgodClient.send_transactions\u001b[1;34m(self, txns, **kwargs)\u001b[0m\n\u001b[0;32m    302\u001b[0m     \u001b[39massert\u001b[39;00m \u001b[39mnot\u001b[39;00m \u001b[39misinstance\u001b[39m(\n\u001b[0;32m    303\u001b[0m         txn, future\u001b[39m.\u001b[39mtransaction\u001b[39m.\u001b[39mTransaction\n\u001b[0;32m    304\u001b[0m     ), \u001b[39m\"\u001b[39m\u001b[39mAttempt to send UNSIGNED transaction \u001b[39m\u001b[39m{}\u001b[39;00m\u001b[39m\"\u001b[39m\u001b[39m.\u001b[39mformat(txn)\n\u001b[0;32m    305\u001b[0m     serialized\u001b[39m.\u001b[39mappend(base64\u001b[39m.\u001b[39mb64decode(encoding\u001b[39m.\u001b[39mmsgpack_encode(txn)))\n\u001b[1;32m--> 307\u001b[0m \u001b[39mreturn\u001b[39;00m \u001b[39mself\u001b[39m\u001b[39m.\u001b[39msend_raw_transaction(\n\u001b[0;32m    308\u001b[0m     base64\u001b[39m.\u001b[39mb64encode(\u001b[39mb\u001b[39m\u001b[39m\"\u001b[39m\u001b[39m\"\u001b[39m\u001b[39m.\u001b[39mjoin(serialized)), \u001b[39m*\u001b[39m\u001b[39m*\u001b[39mkwargs\n\u001b[0;32m    309\u001b[0m )\n",
      "File \u001b[1;32mc:\\Users\\IRONMAN\\miniconda3\\lib\\site-packages\\algosdk\\v2client\\algod.py:237\u001b[0m, in \u001b[0;36mAlgodClient.send_raw_transaction\u001b[1;34m(self, txn, **kwargs)\u001b[0m\n\u001b[0;32m    231\u001b[0m headers \u001b[39m=\u001b[39m util\u001b[39m.\u001b[39mbuild_headers_from(\n\u001b[0;32m    232\u001b[0m     kwargs\u001b[39m.\u001b[39mget(\u001b[39m\"\u001b[39m\u001b[39mheaders\u001b[39m\u001b[39m\"\u001b[39m, \u001b[39mFalse\u001b[39;00m),\n\u001b[0;32m    233\u001b[0m     {\u001b[39m\"\u001b[39m\u001b[39mContent-Type\u001b[39m\u001b[39m\"\u001b[39m: \u001b[39m\"\u001b[39m\u001b[39mapplication/x-binary\u001b[39m\u001b[39m\"\u001b[39m},\n\u001b[0;32m    234\u001b[0m )\n\u001b[0;32m    235\u001b[0m kwargs[\u001b[39m\"\u001b[39m\u001b[39mheaders\u001b[39m\u001b[39m\"\u001b[39m] \u001b[39m=\u001b[39m headers\n\u001b[1;32m--> 237\u001b[0m \u001b[39mreturn\u001b[39;00m \u001b[39mself\u001b[39m\u001b[39m.\u001b[39malgod_request(\u001b[39m\"\u001b[39m\u001b[39mPOST\u001b[39m\u001b[39m\"\u001b[39m, req, data\u001b[39m=\u001b[39mtxn, \u001b[39m*\u001b[39m\u001b[39m*\u001b[39mkwargs)[\u001b[39m\"\u001b[39m\u001b[39mtxId\u001b[39m\u001b[39m\"\u001b[39m]\n",
      "File \u001b[1;32mc:\\Users\\IRONMAN\\miniconda3\\lib\\site-packages\\algosdk\\v2client\\algod.py:89\u001b[0m, in \u001b[0;36mAlgodClient.algod_request\u001b[1;34m(self, method, requrl, params, data, headers, response_format)\u001b[0m\n\u001b[0;32m     87\u001b[0m         e \u001b[39m=\u001b[39m json\u001b[39m.\u001b[39mloads(e)[\u001b[39m\"\u001b[39m\u001b[39mmessage\u001b[39m\u001b[39m\"\u001b[39m]\n\u001b[0;32m     88\u001b[0m     \u001b[39mfinally\u001b[39;00m:\n\u001b[1;32m---> 89\u001b[0m         \u001b[39mraise\u001b[39;00m error\u001b[39m.\u001b[39mAlgodHTTPError(e, code)\n\u001b[0;32m     90\u001b[0m \u001b[39mif\u001b[39;00m response_format \u001b[39m==\u001b[39m \u001b[39m\"\u001b[39m\u001b[39mjson\u001b[39m\u001b[39m\"\u001b[39m:\n\u001b[0;32m     91\u001b[0m     \u001b[39mtry\u001b[39;00m:\n",
      "\u001b[1;31mAlgodHTTPError\u001b[0m: TransactionPool.Remember: transaction M6SKRBFLI5SVRYGPGUEWWGB3ONXDYRALGVFH4JXMSS5NIH65DQXQ: logic eval error: assert failed pc=335. Details: pc=335, opcodes=>=\n&&\nassert\n"
     ]
    }
   ],
   "source": [
    "bidAmount = reserve\n",
    "bidderBalancesBefore = getBalances(client, bidder.getAddress())\n",
    "bidderAlgosBefore = bidderBalancesBefore[0]\n",
    "print(\"Carla wants to bid on NFT, her balances:\", bidderBalancesBefore)\n",
    "print(\"Carla is placing bid for\", bidAmount, \"microAlgos\")\n",
    "\n",
    "placeBid(client=client, appID=appID, bidder=bidder, bidAmount=bidAmount)\n",
    "\n",
    "print(\"Carla is opting into NFT with ID\", nftID)\n",
    "\n",
    "optInToAsset(client, nftID, bidder)\n",
    "\n",
    "print(\"Done\\n\")"
   ]
  },
  {
   "cell_type": "code",
   "execution_count": null,
   "metadata": {},
   "outputs": [],
   "source": [
    "_, lastRoundTime = getLastBlockTimestamp(client)\n",
    "if lastRoundTime < endTime + 5:\n",
    "    waitTime = endTime + 5 - lastRoundTime\n",
    "    print(\"Waiting {} seconds for the auction to finish\\n\".format(waitTime))\n",
    "    sleep(waitTime)\n",
    "\n",
    "print(\"Alice is closing out the auction\\n\")\n",
    "closeAuction(client, appID, seller)"
   ]
  },
  {
   "cell_type": "code",
   "execution_count": null,
   "metadata": {},
   "outputs": [],
   "source": [
    "actualAppBalances = getBalances(client, get_application_address(appID))\n",
    "expectedAppBalances = {0: 0}\n",
    "print(\"The auction escrow now holds the following:\", actualAppBalances)\n",
    "assert actualAppBalances == expectedAppBalances\n",
    "\n",
    "bidderNftBalance = getBalances(client, bidder.getAddress())[nftID]\n",
    "assert bidderNftBalance == nftAmount"
   ]
  },
  {
   "cell_type": "code",
   "execution_count": null,
   "metadata": {},
   "outputs": [],
   "source": [
    "actualSellerBalances = getBalances(client, seller.getAddress())\n",
    "print(\"Alice's balances after auction: \", actualSellerBalances, \" Algos\")\n",
    "actualBidderBalances = getBalances(client, bidder.getAddress())\n",
    "print(\"Carla's balances after auction: \", actualBidderBalances, \" Algos\")\n",
    "assert len(actualSellerBalances) == 2\n",
    "# seller should receive the bid amount, minus the txn fee\n",
    "assert actualSellerBalances[0] >= sellerAlgosBefore + bidAmount - 1_000\n",
    "assert actualSellerBalances[nftID] == 0"
   ]
  },
  {
   "cell_type": "code",
   "execution_count": null,
   "metadata": {},
   "outputs": [],
   "source": []
  }
 ],
 "metadata": {
  "kernelspec": {
   "display_name": "Python 3.9.7 ('base')",
   "language": "python",
   "name": "python3"
  },
  "language_info": {
   "codemirror_mode": {
    "name": "ipython",
    "version": 3
   },
   "file_extension": ".py",
   "mimetype": "text/x-python",
   "name": "python",
   "nbconvert_exporter": "python",
   "pygments_lexer": "ipython3",
   "version": "3.9.7"
  },
  "orig_nbformat": 4,
  "vscode": {
   "interpreter": {
    "hash": "2b997b5b8794c030e25a28be498e8226ee8897df85ede9190db777bdc9cc75be"
   }
  }
 },
 "nbformat": 4,
 "nbformat_minor": 2
}
